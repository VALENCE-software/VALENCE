{
 "cells": [
  {
   "cell_type": "code",
   "execution_count": 1,
   "metadata": {},
   "outputs": [],
   "source": [
    "%load_ext autoreload\n",
    "%autoreload 2\n",
    "#%matplotlib nbagg\n",
    "import vtools.iotools as io\n",
    "import vtools.obtools as ob\n",
    "import openbabel\n",
    "import vtools.vtools as vt\n",
    "#import numpy as np\n",
    "import matplotlib.pyplot as plt\n",
    "from subprocess import Popen\n",
    "from ipywidgets import interact, interactive, fixed, interact_manual, Textarea, widgets, Layout,VBox,HBox, Box,Text\n",
    "import numpy as np\n",
    "%matplotlib inline\n"
   ]
  },
  {
   "cell_type": "code",
   "execution_count": 3,
   "metadata": {
    "scrolled": true
   },
   "outputs": [
    {
     "data": {
      "application/vnd.jupyter.widget-view+json": {
       "model_id": "495c5cd48c4347d49666f26bf447dba1",
       "version_major": 2,
       "version_minor": 0
      },
      "text/plain": [
       "aW50ZXJhY3RpdmUoY2hpbGRyZW49KFRleHQodmFsdWU9dSdDJywgZGVzY3JpcHRpb249dSdtb2wnKSwgRHJvcGRvd24oZGVzY3JpcHRpb249dSdzdHlsZScsIGluZGV4PTMsIG9wdGlvbnM9KCfigKY=\n"
      ]
     },
     "metadata": {},
     "output_type": "display_data"
    }
   ],
   "source": [
    "@interact(mol=Textarea(value='O',layout={'height': '100px','width':'400px'}),style=['line','cross','sphere','stick','cartoon'],radius=0.5)\n",
    "def display_molecule(mol,style='stick',radius=0.7):\n",
    "    import py3Dmol\n",
    "    #http://3dmol.csb.pitt.edu/doc/types.html#AtomStyleSpec\n",
    "    mol = ob.get_mol((mol),make3D=True)\n",
    "    xyz = ob.get_xyz(mol)\n",
    "    xyzview = py3Dmol.view(width=400,height=400)\n",
    "    xyzview.addModel(xyz,'xyz')\n",
    "    xyzview.setStyle({style:{'radius':radius}})\n",
    "    xyzview.setBackgroundColor('0xeeeeee')\n",
    "    xyzview.animate({'loop': 'backAndForth'})\n",
    "    xyzview.zoomTo()\n",
    "    xyzview.show()\n",
    "    xyztext = Textarea(value=xyz,layout={'height': '200px','width':'600px'})\n",
    "    display(xyztext)\n",
    "    return"
   ]
  },
  {
   "cell_type": "code",
   "execution_count": 4,
   "metadata": {
    "scrolled": true
   },
   "outputs": [
    {
     "data": {
      "application/vnd.jupyter.widget-view+json": {
       "model_id": "768181422b364d5faef81bf95488d294",
       "version_major": 2,
       "version_minor": 0
      },
      "text/plain": [
       "aW50ZXJhY3RpdmUoY2hpbGRyZW49KFRleHRhcmVhKHZhbHVlPXUnTycsIGRlc2NyaXB0aW9uPXUnbW9sJywgbGF5b3V0PUxheW91dChoZWlnaHQ9dScxMDBweCcsIHdpZHRoPXUnNDAwcHgnKSnigKY=\n"
      ]
     },
     "metadata": {},
     "output_type": "display_data"
    }
   ],
   "source": [
    "@interact(mol=Textarea(value='O',layout={'height': '100px','width':'400px'}),basis='vtools/631g',fullbasis=False, allatoms=False)\n",
    "def interactive_input_generator(mol,basis,fullbasis=False, allatoms=False):\n",
    "    mol = ob.get_mol(mol,make3D=True)\n",
    "    print('Molecular formula: {}'.format(ob.get_formula(mol)))\n",
    "    print('Multiplicity: {}'.format(ob.get_multiplicity(mol)))\n",
    "    print('Number of electrons: {}'.format(ob.get_nelectron(mol)))\n",
    "    print('Number of determinants: {}'.format(vt.get_number_of_determinants(mol)))\n",
    "    xyz = ob.get_xyz(mol)\n",
    "    orb = vt.get_guess_orbital(mol,basis,fullbasis=fullbasis, allatoms=allatoms)\n",
    "    inp = vt.get_valence_input(mol,basis,guess=orb,fullbasis=fullbasis,allatoms=allatoms)\n",
    "    w = Textarea(value=inp,layout={'height': '500px','width':'50%'},description='input')\n",
    "    display(w)\n",
    "    return "
   ]
  },
  {
   "cell_type": "code",
   "execution_count": null,
   "metadata": {},
   "outputs": [],
   "source": []
  }
 ],
 "metadata": {
  "kernelspec": {
   "display_name": "Python 2",
   "language": "python",
   "name": "python2"
  },
  "language_info": {
   "codemirror_mode": {
    "name": "ipython",
    "version": 2
   },
   "file_extension": ".py",
   "mimetype": "text/x-python",
   "name": "python",
   "nbconvert_exporter": "python",
   "pygments_lexer": "ipython2",
   "version": "2.7.15"
  }
 },
 "nbformat": 4,
 "nbformat_minor": 2
}
