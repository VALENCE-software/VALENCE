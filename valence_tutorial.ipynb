{
 "cells": [
  {
   "cell_type": "markdown",
   "metadata": {},
   "source": [
    "# Installation\n",
    "You can create a conda environment to install all the dependencies:\n",
    "```\n",
    "conda env create -f environment.yml\n",
    "```\n",
    "After conda creates the environment, you can activate it with\n",
    "```\n",
    "conda activate valence-env\n",
    "```\n",
    "You can add valence-env as a Jupyter kernel:\n",
    "```\n",
    "python -m ipykernel install --user --name valence-env\n",
    "```\n",
    "After this step, valence-env should be available in Jupyter Notebook Kernel/Change Kernel menu."
   ]
  },
  {
   "cell_type": "code",
   "execution_count": 62,
   "metadata": {},
   "outputs": [
    {
     "name": "stdout",
     "output_type": "stream",
     "text": [
      "The autoreload extension is already loaded. To reload it, use:\n",
      "  %reload_ext autoreload\n"
     ]
    }
   ],
   "source": [
    "%load_ext autoreload\n",
    "%autoreload 2\n",
    "#%matplotlib nbagg\n",
    "import vtools.iotools as io\n",
    "import vtools.obtools as ob\n",
    "import openbabel\n",
    "import vtools.vtools as vt\n",
    "#import numpy as np\n",
    "import matplotlib.pyplot as plt\n",
    "from subprocess import Popen\n",
    "from ipywidgets import interact, interactive\n",
    "from ipywidgets import fixed, interact_manual \n",
    "from ipywidgets import Textarea, widgets, Layout, Accordion\n",
    "from ipywidgets import VBox, HBox, Box, Text, BoundedIntText\n",
    "import numpy as np\n",
    "%matplotlib inline"
   ]
  },
  {
   "cell_type": "code",
   "execution_count": 61,
   "metadata": {
    "scrolled": true
   },
   "outputs": [
    {
     "data": {
      "application/vnd.jupyter.widget-view+json": {
       "model_id": "d8f38fa84bbf4fef80f2536d2cdb133f",
       "version_major": 2,
       "version_minor": 0
      },
      "text/plain": [
       "aW50ZXJhY3RpdmUoY2hpbGRyZW49KFRleHRhcmVhKHZhbHVlPXUnTycsIGRlc2NyaXB0aW9uPXUnbW9sJywgbGF5b3V0PUxheW91dChoZWlnaHQ9dScxMDBweCcsIHdpZHRoPXUnNDAwcHgnKSnigKY=\n"
      ]
     },
     "metadata": {},
     "output_type": "display_data"
    }
   ],
   "source": [
    "@interact(mol=Textarea(value='O',layout={'height': '100px','width':'400px'}),style=['line','cross','sphere','stick','cartoon'],radius=0.5)\n",
    "def display_molecule(mol,style='stick',radius=0.7):\n",
    "    import py3Dmol\n",
    "    #http://3dmol.csb.pitt.edu/doc/types.html#AtomStyleSpec\n",
    "    mol = ob.get_mol((mol),make3D=True)\n",
    "    xyz = ob.get_xyz(mol)\n",
    "    xyzview = py3Dmol.view(width=200,height=200)\n",
    "    xyzview.addModel(xyz,'xyz')\n",
    "    xyzview.setStyle({style:{'radius':radius}})\n",
    "    xyzview.setBackgroundColor('0xeeeeee')\n",
    "    xyzview.animate({'loop': 'backAndForth'})\n",
    "    xyzview.zoomTo()\n",
    "    xyzview.show()\n",
    "    xyztext = Textarea(value=xyz,layout={'height': '200px','width':'400px'})\n",
    "    display(xyztext)\n",
    "    return"
   ]
  },
  {
   "cell_type": "code",
   "execution_count": 75,
   "metadata": {},
   "outputs": [
    {
     "data": {
      "application/vnd.jupyter.widget-view+json": {
       "model_id": "1f371f4b98464fabaa5b2f78de9e6aea",
       "version_major": 2,
       "version_minor": 0
      },
      "text/plain": [
       "aW50ZXJhY3RpdmUoY2hpbGRyZW49KFRleHRhcmVhKHZhbHVlPXUnTycsIGRlc2NyaXB0aW9uPXUnaWRlbnRpZmllcicsIGxheW91dD1MYXlvdXQoaGVpZ2h0PXUnNTBweCcsIHdpZHRoPXUnMzDigKY=\n"
      ]
     },
     "metadata": {},
     "output_type": "display_data"
    }
   ],
   "source": [
    "@interact(mol=Textarea(value='O',layout={'height': '50px','width':'300px'},description='identifier'),\n",
    "          basis='vtools/631g',niter=BoundedIntText(min=0,value=1,description='Niter'),\n",
    "         optimization=['very tight','tight','default','coarse','very coarse'],fullbasis=False, allatoms=False)\n",
    "def interactive_input_generator(mol,basis, niter=1, optimization='default',fullbasis=False, allatoms=False):\n",
    "    mol = ob.get_mol(mol,make3D=True)\n",
    "    xyz = ob.get_xyz(mol)\n",
    "    info  = 'Molecular formula: {}\\n'.format(ob.get_formula(mol))\n",
    "    info += 'Multiplicity: {}\\n'.format(ob.get_multiplicity(mol))\n",
    "    info += 'Number of electrons: {}\\n'.format(ob.get_nelectron(mol))\n",
    "    info += 'Number of determinants: {}\\n'.format(vt.get_number_of_determinants(mol))\n",
    "    info += 'xyz:\\n {}\\n'.format(xyz)\n",
    "    try:\n",
    "        import py3Dmol\n",
    "        xyzview = py3Dmol.view(width=100,height=100)\n",
    "        xyzview.addModel(xyz,'xyz')\n",
    "        xyzview.setStyle({'stick':{'radius':0.5}})\n",
    "        xyzview.setBackgroundColor('0xeeeeee')\n",
    "        xyzview.animate({'loop': 'backAndForth'})\n",
    "        xyzview.zoomTo()\n",
    "        molview = xyzview.show()\n",
    "    except Exception as e:\n",
    "        pass\n",
    "    w1 = Textarea(value=info,description='info',layout={'height': '100px','width':'400px'})    \n",
    "    display(w1)\n",
    "    orb = vt.get_guess_orbital(mol,basis,fullbasis=fullbasis, allatoms=allatoms)\n",
    "    if optimization == 'very tight':\n",
    "        opt = '20 20 20 10 10'\n",
    "    elif optimization == 'tight':\n",
    "        opt = '12 12 12 10 10'\n",
    "    elif optimization == 'coarse':\n",
    "        opt = '5 5 5 0 0'\n",
    "    elif optimization == 'very coarse':\n",
    "        opt = '1 1 1 0 0'\n",
    "    else:\n",
    "        opt = '8 8 6 10 10'\n",
    "    opt = opt + ' ' + str(niter)\n",
    "    inp = vt.get_valence_input(mol,basis,guess=orb,fullbasis=fullbasis,allatoms=allatoms,opt=opt)\n",
    "    w2 = Textarea(value=inp,layout={'height': '500px','width':'600px'},description='input')\n",
    "    display(w2)\n",
    "    return "
   ]
  }
 ],
 "metadata": {
  "kernelspec": {
   "display_name": "valence-env",
   "language": "python",
   "name": "valence-env"
  },
  "language_info": {
   "codemirror_mode": {
    "name": "ipython",
    "version": 2
   },
   "file_extension": ".py",
   "mimetype": "text/x-python",
   "name": "python",
   "nbconvert_exporter": "python",
   "pygments_lexer": "ipython2",
   "version": "2.7.15"
  }
 },
 "nbformat": 4,
 "nbformat_minor": 2
}
