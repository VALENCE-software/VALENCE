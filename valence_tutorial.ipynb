{
 "cells": [
  {
   "cell_type": "code",
   "execution_count": 4,
   "metadata": {},
   "outputs": [
    {
     "name": "stdout",
     "output_type": "stream",
     "text": [
      "The autoreload extension is already loaded. To reload it, use:\n",
      "  %reload_ext autoreload\n"
     ]
    }
   ],
   "source": [
    "%load_ext autoreload\n",
    "%autoreload 2\n",
    "#%matplotlib nbagg\n",
    "%matplotlib inline\n",
    "import vtools.iotools as io\n",
    "import vtools.obtools as ob\n",
    "import openbabel\n",
    "import vtools.vtools as vt\n",
    "#import numpy as np\n",
    "import matplotlib.pyplot as plt\n",
    "from subprocess import Popen\n",
    "from ipywidgets import interact, interactive, fixed, interact_manual, Textarea, widgets, Layout,VBox,HBox, Box,Text\n",
    "import numpy as np"
   ]
  },
  {
   "cell_type": "code",
   "execution_count": 19,
   "metadata": {
    "scrolled": true
   },
   "outputs": [
    {
     "data": {
      "application/vnd.jupyter.widget-view+json": {
       "model_id": "b848bc549eda492494f2a3e0f51aef28",
       "version_major": 2,
       "version_minor": 0
      },
      "text/plain": [
       "interactive(children=(Text(value='C', description='mol'), Dropdown(description='style', index=3, options=('lin…"
      ]
     },
     "metadata": {},
     "output_type": "display_data"
    }
   ],
   "source": [
    "@interact(mol='C',style=['line','cross','sphere','stick','cartoon'],radius=0.5)\n",
    "def display_molecule(mol,style='stick',radius=0.5):\n",
    "    import py3Dmol\n",
    "    mol = ob.get_mol(mol,make3D=True)\n",
    "    xyz = ob.get_xyz(mol)\n",
    "    xyzview = py3Dmol.view(width=400,height=400)\n",
    "    xyzview.addModel(xyz,'xyz')\n",
    "    xyzview.setStyle({style:{'radius':radius}})\n",
    "    xyzview.setBackgroundColor('0xeeeeee')\n",
    "    xyzview.animate({'loop': 'backAndForth'})\n",
    "    xyzview.zoomTo()\n",
    "    xyzview.show()\n",
    "    return"
   ]
  },
  {
   "cell_type": "code",
   "execution_count": 9,
   "metadata": {
    "scrolled": true
   },
   "outputs": [
    {
     "data": {
      "application/vnd.jupyter.widget-view+json": {
       "model_id": "9238ef67b04f4e26ac29bc92cdce6329",
       "version_major": 2,
       "version_minor": 0
      },
      "text/plain": [
       "interactive(children=(Text(value='C', description='mol'), Text(value='vtools/631g', description='basis'), Chec…"
      ]
     },
     "metadata": {},
     "output_type": "display_data"
    }
   ],
   "source": [
    "@interact(mol='C',basis='vtools/631g',fullbasis=False, allatoms=False)\n",
    "def interactive_input_generator(mol,basis,fullbasis=False, allatoms=False):\n",
    "    mol = ob.get_mol(mol,make3D=True)\n",
    "    print('Molecular formula: {}'.format(ob.get_formula(mol)))\n",
    "    print('Multiplicity: {}'.format(ob.get_multiplicity(mol)))\n",
    "    print('Number of electrons: {}'.format(ob.get_nelectron(mol)))\n",
    "    print('Number of determinants: {}'.format(vt.get_number_of_determinants(mol)))\n",
    "    xyz = ob.get_xyz(mol)\n",
    "    orb = vt.get_guess_orbital(mol,basis,fullbasis=fullbasis, allatoms=allatoms)\n",
    "    inp = vt.get_valence_input(mol,basis,guess=orb,fullbasis=fullbasis,allatoms=allatoms)\n",
    "    w = Textarea(value=inp,layout={'height': '500px','width':'50%'},description='input')\n",
    "    display(w)\n",
    "    return \n"
   ]
  }
 ],
 "metadata": {
  "kernelspec": {
   "display_name": "Python 3",
   "language": "python",
   "name": "python3"
  },
  "language_info": {
   "codemirror_mode": {
    "name": "ipython",
    "version": 3
   },
   "file_extension": ".py",
   "mimetype": "text/x-python",
   "name": "python",
   "nbconvert_exporter": "python",
   "pygments_lexer": "ipython3",
   "version": "3.6.4"
  }
 },
 "nbformat": 4,
 "nbformat_minor": 2
}
